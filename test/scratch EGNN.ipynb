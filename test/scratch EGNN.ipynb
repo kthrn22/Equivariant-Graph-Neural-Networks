{
 "cells": [
  {
   "cell_type": "code",
   "execution_count": 1,
   "metadata": {},
   "outputs": [],
   "source": [
    "import torch\n",
    "import numpy as np\n",
    "import torch.nn as nn\n",
    "from torch import Tensor\n",
    "\n",
    "class Swish(nn.Module):\n",
    "    def __init__(self, beta: float):\n",
    "        super(Swish, self).__init__()\n",
    "        self.sigmoid = nn.Sigmoid()\n",
    "        self.beta = beta\n",
    "\n",
    "    def forward(self, x):\n",
    "        return x * self.sigmoid(self.beta * x)\n",
    "        \n",
    "class EquivariantGraphConvolutionalLayer(nn.Module):\n",
    "    def __init__(self, in_dim: int, hidden_dim: int, swish_beta: float, velocity: bool = False):\n",
    "        super(EquivariantGraphConvolutionalLayer, self).__init__()\n",
    "        activation = Swish(swish_beta)\n",
    "\n",
    "        self.edge_function = nn.Sequential(\n",
    "            nn.Linear(in_dim * 2 + 1, hidden_dim),\n",
    "            activation, \n",
    "            nn.Linear(hidden_dim, hidden_dim),\n",
    "            activation\n",
    "        )\n",
    "\n",
    "        self.coordinate_function = nn.Sequential(\n",
    "            nn.Linear(hidden_dim, hidden_dim),\n",
    "            activation,\n",
    "            nn.Linear(hidden_dim, 1)\n",
    "        )\n",
    "\n",
    "        self.node_function = nn.Sequential(\n",
    "            nn.Linear(in_dim + hidden_dim, hidden_dim),\n",
    "            activation,\n",
    "            nn.Linear(hidden_dim, in_dim)\n",
    "        )\n",
    "\n",
    "        if velocity:\n",
    "            self.velocity_function = nn.Sequential(\n",
    "                nn.Linear(in_dim, hidden_dim),\n",
    "                activation,\n",
    "                nn.Linear(hidden_dim, 1)\n",
    "            )\n",
    "\n",
    "        self.velocity = velocity\n",
    "\n",
    "        self.reset_parameters()\n",
    "\n",
    "    def reset_parameters(self):\n",
    "        nn.init.xavier_uniform_(self.edge_function[0].weight)\n",
    "        self.edge_function[0].bias.data.fill_(0)\n",
    "        nn.init.xavier_uniform_(self.edge_function[2].weight)\n",
    "        self.edge_function[2].bias.data.fill_(0)\n",
    "        nn.init.xavier_uniform_(self.coordinate_function[0].weight)\n",
    "        self.coordinate_function[0].bias.data.fill_(0)\n",
    "        nn.init.xavier_uniform_(self.coordinate_function[2].weight)\n",
    "        self.coordinate_function[2].bias.data.fill_(0)\n",
    "        nn.init.xavier_uniform_(self.node_function[0].weight)\n",
    "        self.node_function[0].bias.data.fill_(0)\n",
    "        nn.init.xavier_uniform_(self.node_function[2].weight)\n",
    "        self.node_function[2].bias.data.fill_(0)\n",
    "        if self.velocity:\n",
    "            nn.init.xavier_uniform_(self.velocity_function[0].weight)\n",
    "            self.velocity_function[0].bias.data.fill_(0)\n",
    "            nn.init.xavier_uniform_(self.velocity_function[2].weight)\n",
    "            self.velocity_function[2].bias.data.fill_(0)\n",
    "\n",
    "\n",
    "    def forward(self, node_feat: Tensor, degree: Tensor, coordinate: Tensor, edge_index: Tensor, velocity_vector: Tensor = None):\n",
    "        r\"\"\"\n",
    "        Parameters: \n",
    "            node_feat (torch.Tensor):\n",
    "                Node features. Shape [N, n, in_dim]\n",
    "            degree (torch.Tensor):\n",
    "                Shape [N]\n",
    "            coordinate (torch.Tensor):\n",
    "                Shape [N, n]\n",
    "            edge_index (torch.tensor):\n",
    "                Shape [2, E]\n",
    "        \"\"\"\n",
    "        if self.velocity:\n",
    "            assert velocity_vector is not None\n",
    "\n",
    "        num_nodes, num_edges = node_feat.shape[0], edge_index.shape[-1]\n",
    "        num_dimensions = coordinate.shape[-1]\n",
    "        # j, i (i -> j)\n",
    "        source, target = edge_index\n",
    "        # x_i - x_j. Shape [E, n]\n",
    "        relative_difference = coordinate[target] - coordinate[source]\n",
    "        # Shape [E]\n",
    "        distance = torch.sum(relative_difference ** 2, dim = -1)\n",
    "        # Shape [E] -> unsqueeze [E, 1] -> broadcast to [E, n, 1]\n",
    "        distance_lifted = torch.broadcast_to(distance.unsqueeze(-1).unsqueeze(1), (num_edges, num_dimensions, 1))\n",
    "\n",
    "        # Compute message\n",
    "        # Shape [E, n, in_dim]\n",
    "        source_feat, target_feat = node_feat[source], node_feat[target]\n",
    "        # Shape [E, n, 2 * in_dim + 1]\n",
    "        message = torch.cat([target_feat, source_feat, distance_lifted], dim = -1)\n",
    "        # Shape [E, n, 2 * in_dim + 1] -> [E, n, hidden_dim]\n",
    "        message = self.edge_function(message)\n",
    "\n",
    "        ## Update coordinate\n",
    "        # Shape [E] -> [E, n]\n",
    "        target_index_lifted = torch.broadcast_to(target.unsqueeze(-1), (num_edges, num_dimensions))\n",
    "        # Shape [E, n]\n",
    "        coordinate_message = relative_difference * self.coordinate_function(message).squeeze()\n",
    "        # Aggregate message\n",
    "        updated_coordinate = torch.zeros(num_nodes, num_dimensions).scatter_add_(0, target_index_lifted, coordinate_message)\n",
    "        inv_degree = (1 / degree).unsqueeze(-1)\n",
    "        # Shape [N, n]\n",
    "        coordinate = coordinate + inv_degree * updated_coordinate\n",
    "\n",
    "        ## Update velocity\n",
    "        if self.velocity is not None:\n",
    "            # Shape [N, n]\n",
    "            velocity_vector = velocity_vector * self.velocity_function(node_feat).squeeze()\n",
    "            coordinate = coordinate + velocity_vector\n",
    "\n",
    "        ## Update node feature\n",
    "        hidden_dim = message.shape[-1]\n",
    "        # Shape [E] -> [E, n, hidden_dim]\n",
    "        target_index_lifted = torch.broadcast_to(target.unsqueeze(-1).unsqueeze(-1), (num_edges, num_dimensions, hidden_dim))\n",
    "        # Aggregrate message\n",
    "        # Shape [N, n, hidden_dim]\n",
    "        aggregrated_message = torch.zeros(num_nodes, num_dimensions, hidden_dim).scatter_add_(0, target_index_lifted, message)\n",
    "        # Shape [N, n, in_dim + hidden_dim] -> [N, n, in_dim]\n",
    "        updated_node_feat = self.node_function(torch.cat([node_feat, aggregrated_message], dim = -1))\n",
    "        node_feat = node_feat + updated_node_feat\n",
    " \n",
    "        if self.velocity is not None:\n",
    "            return coordinate, node_feat, velocity_vector\n",
    "\n",
    "        return coordinate, node_feat"
   ]
  },
  {
   "cell_type": "code",
   "execution_count": 2,
   "metadata": {},
   "outputs": [],
   "source": [
    "num_dimensions = 7\n",
    "coordinate = torch.from_numpy(np.random.rand(5, 7)).to(torch.float32)\n",
    "node_feat = torch.from_numpy(np.random.rand(5, 7, 10)).to(torch.float32)\n",
    "edge_index = np.array([[0, 1], [1, 0],\n",
    "                        [0, 2], [2, 0],\n",
    "                        [0, 3], [3, 0],\n",
    "                        [0, 4], [4, 0],\n",
    "                        [1, 2], [2, 1],\n",
    "                        [1, 4], [4, 1],\n",
    "                        [2, 3], [3, 2],\n",
    "                        [2, 4], [4, 2], \n",
    "                        [3, 4], [4, 3],]).T\n",
    "edge_index = torch.from_numpy(edge_index).to(torch.long)\n",
    "source, target = edge_index\n",
    "degree = torch.zeros((5,)).scatter_add_(0, target, torch.ones((18,)))"
   ]
  },
  {
   "cell_type": "code",
   "execution_count": 12,
   "metadata": {},
   "outputs": [],
   "source": [
    "velocity_vector = torch.from_numpy(np.random.rand(5, 7)).to(torch.float32)"
   ]
  },
  {
   "cell_type": "code",
   "execution_count": 17,
   "metadata": {},
   "outputs": [],
   "source": [
    "e = EquivariantGraphConvolutionalLayer(10, 10, 0.5, True)"
   ]
  },
  {
   "cell_type": "code",
   "execution_count": 18,
   "metadata": {},
   "outputs": [],
   "source": [
    "a, b, v =e.forward(node_feat, degree, coordinate, edge_index, velocity_vector = velocity_vector)"
   ]
  },
  {
   "cell_type": "code",
   "execution_count": 19,
   "metadata": {},
   "outputs": [
    {
     "data": {
      "text/plain": [
       "torch.Size([5, 7])"
      ]
     },
     "execution_count": 19,
     "metadata": {},
     "output_type": "execute_result"
    }
   ],
   "source": [
    "v.shape"
   ]
  },
  {
   "cell_type": "code",
   "execution_count": 20,
   "metadata": {},
   "outputs": [
    {
     "data": {
      "text/plain": [
       "torch.Size([5, 7])"
      ]
     },
     "execution_count": 20,
     "metadata": {},
     "output_type": "execute_result"
    }
   ],
   "source": [
    "a.shape"
   ]
  },
  {
   "cell_type": "code",
   "execution_count": 21,
   "metadata": {},
   "outputs": [
    {
     "data": {
      "text/plain": [
       "torch.Size([5, 7, 10])"
      ]
     },
     "execution_count": 21,
     "metadata": {},
     "output_type": "execute_result"
    }
   ],
   "source": [
    "b.shape"
   ]
  },
  {
   "cell_type": "code",
   "execution_count": null,
   "metadata": {},
   "outputs": [],
   "source": []
  }
 ],
 "metadata": {
  "kernelspec": {
   "display_name": "Python 3",
   "language": "python",
   "name": "python3"
  },
  "language_info": {
   "codemirror_mode": {
    "name": "ipython",
    "version": 3
   },
   "file_extension": ".py",
   "mimetype": "text/x-python",
   "name": "python",
   "nbconvert_exporter": "python",
   "pygments_lexer": "ipython3",
   "version": "3.8.10"
  },
  "orig_nbformat": 4,
  "vscode": {
   "interpreter": {
    "hash": "aee8b7b246df8f9039afb4144a1f6fd8d2ca17a180786b69acc140d282b71a49"
   }
  }
 },
 "nbformat": 4,
 "nbformat_minor": 2
}

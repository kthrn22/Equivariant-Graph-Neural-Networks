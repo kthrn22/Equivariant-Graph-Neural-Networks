{
 "cells": [
  {
   "cell_type": "code",
   "execution_count": 55,
   "metadata": {},
   "outputs": [],
   "source": [
    "import numpy as np\n",
    "import torch\n",
    "import torch.nn as nn\n",
    "from torch import Tensor\n",
    "from typing import Tuple, Dict"
   ]
  },
  {
   "cell_type": "code",
   "execution_count": 136,
   "metadata": {},
   "outputs": [],
   "source": [
    "class GMNLayer(nn.Module):\n",
    "    def __init__(self, in_dim: int, hidden_dim :int, \n",
    "        out_dim: int, edge_attr_dim: int = 0, activation = nn.ReLU(),\n",
    "        use_residual_connection: bool = True, learnable: bool = False\n",
    "        ):\n",
    "        super(GMNLayer, self).__init__()\n",
    "\n",
    "        self.edge_function = nn.Sequential(\n",
    "            nn.Linear(in_dim * 2 + 1 + edge_attr_dim, hidden_dim),\n",
    "            activation,\n",
    "            nn.Linear(hidden_dim, hidden_dim)\n",
    "        )\n",
    "\n",
    "        self.coordinate_function = nn.Sequential(\n",
    "            nn.Linear(hidden_dim, hidden_dim),\n",
    "            activation,\n",
    "            nn.Linear(hidden_dim, 1, bias = False),\n",
    "        )\n",
    "\n",
    "        self.node_function = nn.Sequential(\n",
    "            nn.Linear(in_dim + hidden_dim, hidden_dim),\n",
    "            activation,\n",
    "            nn.Linear(hidden_dim, out_dim),\n",
    "        )\n",
    "\n",
    "        num_basis_stick, num_basis_hinge = 1, 3\n",
    "\n",
    "        self.stick_mlp = nn.Sequential(\n",
    "            nn.Linear(num_basis_stick * num_basis_stick, hidden_dim),\n",
    "            activation,\n",
    "            nn.Linear(hidden_dim, num_basis_stick)\n",
    "        )\n",
    "\n",
    "        self.hinge_mlp = nn.Sequential(\n",
    "            nn.Linear(num_basis_hinge * num_basis_hinge, hidden_dim),\n",
    "            activation,\n",
    "            nn.Linear(hidden_dim, num_basis_hinge)\n",
    "        )\n",
    "\n",
    "        if learnable:\n",
    "            self.stick_mlp_learnable = nn.Sequential(\n",
    "                nn.Linear(3 * 3, hidden_dim),\n",
    "                activation,\n",
    "                nn.Linear(hidden_dim, hidden_dim),\n",
    "                activation,\n",
    "                nn.Linear(hidden_dim, 3)\n",
    "            )\n",
    "\n",
    "            self.hinge_mlp_learnable = nn.Sequential(\n",
    "                nn.Linear(3 * 3, hidden_dim),\n",
    "                activation, \n",
    "                nn.Linear(hidden_dim, hidden_dim),\n",
    "                activation,\n",
    "                nn.Linear(hidden_dim, 3)\n",
    "            )\n",
    "\n",
    "        self.cartersian_velocity_mlp = nn.Sequential(\n",
    "            nn.Linear(in_dim, hidden_dim),\n",
    "            activation,\n",
    "            nn.Linear(hidden_dim, 1)\n",
    "        )\n",
    "\n",
    "        self.angle_velocity_mlp = nn.Sequential(\n",
    "            nn.Linear(in_dim, hidden_dim),\n",
    "            activation,\n",
    "            nn.Linear(hidden_dim, 1)\n",
    "        )\n",
    "\n",
    "        self.center_mlp = nn.Sequential(\n",
    "            nn.Linear(in_dim, hidden_dim),\n",
    "            activation,\n",
    "            nn.Linear(hidden_dim, in_dim)\n",
    "        )\n",
    "\n",
    "        self.learnable_fk = learnable\n",
    "        self.use_residual_connection = use_residual_connection\n",
    "\n",
    "    def equivariant_message_passing(self, Z: Tensor, type: str):\n",
    "        r\"\"\"\n",
    "        Parameters:\n",
    "            Z (torch.Tensor):\n",
    "                Shape [N, 3, num_basis]\n",
    "        \"\"\"\n",
    "        # Shape [N, num_basis, num_basis]\n",
    "        invariant = torch.bmm(Z.permute(0, 2, 1), Z)\n",
    "        # Shape [N, num_basis ** 2]\n",
    "        invariant = invariant.view(-1, invariant.shape[-1] * invariant.shape[-2])\n",
    "        invariant = nn.functional.normalize(invariant, dim = -1, p = 2)\n",
    "        \n",
    "        # Shape [N, num_basis ** 2] -> [N, num_basis]\n",
    "        if type == \"stick\":\n",
    "            if self.learnable_fk: \n",
    "                invariant = self.stick_mlp_learnable(invariant)\n",
    "            else:\n",
    "                invariant = self.stick_mlp(invariant)\n",
    "\n",
    "        elif type == \"hinge\":\n",
    "            if self.learnable_fk:\n",
    "                invariant = self.hinge_mlp(invariant)\n",
    "            else:\n",
    "                invariant = self.hinge_mlp(invariant)\n",
    "\n",
    "        else:\n",
    "            raise NotImplementedError\n",
    "\n",
    "        # Shape [N, 3, num_basis], [N, num_basis, 1] -> [N, 3, 1]\n",
    "        equivariant_message = torch.bmm(Z, invariant.unsqueeze(-1))\n",
    "        # Shape [N, 3, 1] -> [N, 3]\n",
    "        equivariant_message = equivariant_message.squeeze(-1)\n",
    "\n",
    "        return equivariant_message\n",
    "\n",
    "    def rotation_matrix(self, angle, d):\n",
    "        # From https://github.com/hanjq17/GMN/blob/d26f7fb0062442e8b39cf2821c5c4bd055a1a64f/spatial_graph/models/layer.py\n",
    "        x, y, z = torch.unbind(d, dim = -1)\n",
    "        cos, sin = torch.cos(angle), torch.sin(angle)\n",
    "        rot = torch.stack([\n",
    "            cos + (1 - cos) * x * x,\n",
    "            (1 - cos) * x * y - sin * z,\n",
    "            (1 - cos) * x * z + sin * y,\n",
    "            (1 - cos) * x * y + sin * z,\n",
    "            cos + (1 - cos) * y * y,\n",
    "            (1 - cos) * y * z - sin * x,\n",
    "            (1 - cos) * x * z - sin * y,\n",
    "            (1 - cos) * y * z + sin * x,\n",
    "            cos + (1 - cos) * z * z,\n",
    "        ], dim = -1)\n",
    "\n",
    "        return rot.view(-1, 3, 3)\n",
    "\n",
    "    def update_object_isolated(self, node_feat, node_pos, velocity, force, object_index):\n",
    "        r\"\"\"\n",
    "        Parameters:\n",
    "            node_feat (torch.Tensor):\n",
    "                Node features. Shape [N, in_dim]\n",
    "            node_pos (torch.Tensor):\n",
    "                Node 3D Coordinates. Shape [N, 3]\n",
    "            velocity (torch.Tensor):\n",
    "                Velocity vectors. Shape [N, 3]\n",
    "            force (torch.Tensor):\n",
    "                Force vectors. Shape [N, 3]\n",
    "            object_index (torch.Tensor):\n",
    "                Sticks. Shape [K] (K is the number of objects)\n",
    "        \"\"\"\n",
    "        # Shape [K, 3], [K, 3], [K, 3], [K, in_dim]\n",
    "        x, v, f, h = node_pos[object_index], velocity[object_index], force[object_index], node_feat[object_index]\n",
    "        # Shape [K, 3]\n",
    "        v = self.cartersian_velocity_mlp(h) * v + f\n",
    "        x = x + v\n",
    "\n",
    "        node_pos[object_index], velocity[object_index] = x, v\n",
    "\n",
    "        return node_pos, velocity\n",
    "\n",
    "    def learnable_forward_kinetics(self, node_feat: Tuple, node_pos: Tuple, center_pos: Tensor, velocity: Tuple, \n",
    "    force: Tuple, cartesian_acceleration: Tensor, type: str):\n",
    "        r\"\"\"\n",
    "        Parameters:\n",
    "            node_feat (Tuple):\n",
    "                Node features. Shape ([K, in_dim], [K, in_dim])\n",
    "            node_pos (Tuple):\n",
    "                Node 3D Coordinates. Shape ([K, 3], [K, 3])\n",
    "            center_pos (torch.Tenso):\n",
    "                Objects generalized Cartesian position. Shape [K, 3]\n",
    "            velocity (Tuple):\n",
    "                Velocity vectors. Shape ([K, 3], [K, 3])\n",
    "            force (Tuple):\n",
    "                Force vectors. Shape ([K, 3], [K, 3])\n",
    "            cartesian_acceleration (torch.Tensor):\n",
    "                Generalized Cartesian acceleration vectors of objects. Shape [K, 3]\n",
    "            type (str):\n",
    "                Object type: \"stick\", \"hinge\"\n",
    "        \"\"\"\n",
    "        # Shape [K, 3]\n",
    "        x_1, h_1, f_1, v_1 = node_pos[0], node_feat[0], force[0], velocity[0]\n",
    "        x_2, h_2, f_2, v_2 = node_pos[1], node_feat[1], force[1], velocity[1]\n",
    "        x_center = center_pos\n",
    "\n",
    "        # Shape [K, 3]\n",
    "        equivariant_message_1 = self.equivariant_message_passing(torch.stack([cartesian_acceleration, x_1 - x_center, f_1], dim = -1), type = type)\n",
    "        equivariant_message_2 = self.equivariant_message_passing(torch.stack([cartesian_acceleration, x_2 - x_center, f_2], dim = -1), type = type)\n",
    "\n",
    "        v_1 = self.cartersian_velocity_mlp(h_1) * v_1 + equivariant_message_1\n",
    "        v_2 = self.cartersian_velocity_mlp(h_2) * v_2 + equivariant_message_2\n",
    "\n",
    "        x_1 = x_1 + v_1\n",
    "        x_2 = x_2 + v_2\n",
    "\n",
    "        return x_1, v_1, x_2, v_2\n",
    "\n",
    "    def update_object_stick(self, node_feat, node_pos, velocity, force, stick_index):\n",
    "        r\"\"\"\n",
    "        Parameters:\n",
    "            node_feat (torch.Tensor):\n",
    "                Node features. Shape [N, in_dim]\n",
    "            node_pos (torch.Tensor):\n",
    "                Node 3D Coordinates. Shape [N, 3]\n",
    "            velocity (torch.Tensor):\n",
    "                Velocity vectors. Shape [N, 3]\n",
    "            force (torch.Tensor):\n",
    "                Force vectors. Shape [N, 3]\n",
    "            stick_index (torch.Tensor):\n",
    "                Sticks. Shape [2, K] (K is the number of objects)\n",
    "        \"\"\"\n",
    "        # Shape [K]\n",
    "        index_1, index_2 = stick_index\n",
    "        # Shape [K, 3]\n",
    "        x_1, x_2 = node_pos[index_1], node_pos[index_2]\n",
    "        f_1, f_2 = force[index_1], force[index_2]\n",
    "        v_1, v_2 = velocity[index_1], velocity[index_2]\n",
    "        x_center, f_center, v_center = (x_1 + x_2 ) / 2, (f_1 + f_2) / 2, (v_1 + v_2) / 2\n",
    "\n",
    "        ## Compute generalized Cartersian acceleration\n",
    "        # Shape [K, 3] -> unsqueeze [K, 3, 1] -> MP -> [K, 3] \n",
    "        equivariant_message_1 = self.equivariant_message_passing(f_1.unsqueeze(-1), type = \"stick\")\n",
    "        equivariant_message_2 = self.equivariant_message_passing(f_2.unsqueeze(-1), type = \"stick\")\n",
    "        # Shape [K, 3]\n",
    "        cartesian_acceleration = (equivariant_message_1 + equivariant_message_2) / 2\n",
    "\n",
    "        if self.learnable_fk:\n",
    "            x_1, v_1, x_2, v_2 = self.learnable_forward_kinetics((h_1, h_2), (x_1, x_2), x_center, (v_1, v_2), \n",
    "                    (f_1, f_2), cartesian_acceleration)\n",
    "        else:    \n",
    "            ## Compute generalized angle acceleration\n",
    "            # Shape [K, 1]\n",
    "            inertia = torch.sum((x_1 - x_center) ** 2, dim = -1, keepdim = True) + torch.sum((x_2 - x_center) ** 2, dim = -1, keepdim = True)\n",
    "            # Shape [K, 3]\n",
    "            total_torque = torch.cross(x_1 - x_center, f_1) + torch.cross(x_2 - x_center, f_2)\n",
    "            # Shape [k, 3]\n",
    "            angle_acceleration = total_torque / inertia\n",
    "\n",
    "            ## Compute angle velocity\n",
    "            # Shape [K, 3]\n",
    "            r, v_r = (x_1 - x_2) / 2, (v_1 - v_2) / 2\n",
    "            angle_velocity = torch.cross(nn.functional.normalize(r, dim = -1, p = 2), v_r) / torch.norm(\n",
    "                r, dim = -1, p = 2, keepdim = True).clamp_min(1e-5)\n",
    "\n",
    "            ## Update center Cartesian velocity and center Cartesian position\n",
    "            # Shape [K, in_dim]\n",
    "            h_1, h_2 = node_feat[index_1], node_feat[index_2]\n",
    "            # Shape [K, in_dim] -> [K, in_dim]\n",
    "            h_center = self.center_mlp(h_1) + self.center_mlp(h_2)\n",
    "            # Shape [K, 3]\n",
    "            v_center = self.cartersian_velocity_mlp(h_center) * v_center + cartesian_acceleration\n",
    "            x_center = x_center + v_center\n",
    "\n",
    "            ## Update angle velocity\n",
    "            # Shape [K, 3]\n",
    "            angle_velocity = self.angle_velocity_mlp(h_center) * angle_velocity + angle_acceleration\n",
    "\n",
    "            ## Update node_pos (position) and velocity\n",
    "            # Shape [K, 3, 3]\n",
    "            rotation = self.rotation_matrix(torch.norm(angle_velocity, dim = -1, p = 2), nn.functional.normalize(angle_velocity, dim = -1, p = 2))\n",
    "            # Shape [K, 3, 3], [K, 3, 1] -> [K, 3, 1] -> [K, 3]\n",
    "            r = torch.bmm(rotation, r.unsqueeze(-1)).squeeze(-1)\n",
    "            # Shape [K, 3]\n",
    "            x_1, x_2 = x_center + r, x_center - r\n",
    "            v_1, v_2 = v_center + torch.cross(angle_velocity, r), v_center - torch.cross(angle_velocity, r)\n",
    "\n",
    "        node_pos[index_1], node_pos[index_2] = x_1, x_2\n",
    "        velocity[index_1], velocity[index_2] = v_1, v_2\n",
    "\n",
    "        return node_pos, velocity\n",
    "\n",
    "    def update_object_hinge(self, node_feat, node_pos, velocity, force, hinge_index):\n",
    "        r\"\"\"\n",
    "        Parameters:\n",
    "            node_feat (torch.Tensor):\n",
    "                Node features. Shape [N, in_dim]\n",
    "            node_pos (torch.Tensor):\n",
    "                Node 3D Coordinates. Shape [N, 3]\n",
    "            velocity (torch.Tensor):\n",
    "                Velocity vectors. Shape [N, 3]\n",
    "            force (torch.Tensor):\n",
    "                Force vectors. Shape [N, 3]\n",
    "            hinge_index (torch.Tensor):\n",
    "                Hinges. Shape [3, K] (K is the number of objects)\n",
    "        \"\"\"\n",
    "        index_center, index_1, index_2 = hinge_index\n",
    "        x_center, x_1, x_2 = node_pos[index_center], node_pos[index_1], node_pos[index_2]\n",
    "        v_center, v_1, v_2 = velocity[index_center], velocity[index_1], velocity[index_2]\n",
    "        f_center, f_1, f_2 = force[index_center], force[index_1], force[index_2]\n",
    "\n",
    "        # Shape [K, 3, 3]\n",
    "        equivariant_message_center = self.equivariant_message_passing(torch.stack([f_center, (x_center - x_center), (v_center - v_center)], dim = -1), type = \"hinge\")\n",
    "        equivariant_message_1 = self.equivariant_message_passing(torch.stack([f_1, (x_1 - x_center), (v_1 - v_center)], dim = -1), type = \"hinge\")\n",
    "        equivariant_message_2 = self.equivariant_message_passing(torch.stack([f_2, (x_2 - x_center), (v_2 - v_center)], dim = -1), type = \"hinge\")\n",
    "\n",
    "        ## Compute generalized Cartesian acceleration\n",
    "        # Shape [K, 3]\n",
    "        cartesian_acceleration = (equivariant_message_center + equivariant_message_1 + equivariant_message_2) / 3\n",
    "\n",
    "        if self.learnable_fk:\n",
    "            x_1, v_1, x_2, v_2 = self.learnable_forward_kinetics((h_1, h_2), (x_1, x_2), x_center, (v_1, v_2), \n",
    "                    (f_1, f_2), cartesian_acceleration)\n",
    "\n",
    "            ## Update center Cartesian velocity and Cartesian position\n",
    "            # Shape [K, in_dim]\n",
    "            h_1, h_2 = node_feat[index_1], node_feat[index_2]\n",
    "            h_center = self.center_mlp(h_1 + h_2)\n",
    "            # Shape [K, 3]\n",
    "            v_center = self.cartersian_velocity_mlp(h_center) * v_center + cartesian_acceleration\n",
    "            x_center = x_center + v_center\n",
    "        else:\n",
    "            ## Compute angle acceleration \n",
    "            # Shape [K, 3]\n",
    "            angle_acceleration_1 = torch.cross((x_1 - x_center), (f_1 - cartesian_acceleration)) / torch.sum((x_1 - x_center) ** 2, dim = -1, keepdim = True)\n",
    "            angle_acceleration_2 = torch.cross((x_2 - x_center), (f_2 - cartesian_acceleration)) / torch.sum((x_2 - x_center) ** 2, dim = -1, keepdim = True)\n",
    "\n",
    "            ## Compute angle velocity\n",
    "            # Shape [K, 3]\n",
    "            r_1, r_2 = x_1 - x_center, x_2 - x_center\n",
    "            v_r1, v_r2 = v_1 - v_center, v_2 - v_center\n",
    "            angle_velocity_1 = torch.cross(nn.functional.normalize(r_1, dim = -1, p = 2), v_r1) / torch.norm(\n",
    "                r_1, dim = -1, p = 2, keepdim = True).clamp_min(1e-5)\n",
    "            angle_velocity_2 = torch.cross(nn.functional.normalize(r_2, dim = -1, p = 2), v_r2) / torch.norm(\n",
    "                r_2, dim = -1, p = 2, keepdim = True).clamp_min(1e-5)\n",
    "\n",
    "            ## Update center Cartesian velocity and Cartesian position\n",
    "            # Shape [K, in_dim]\n",
    "            h_1, h_2 = node_feat[index_1], node_feat[index_2]\n",
    "            h_center = self.center_mlp(h_1 + h_2)\n",
    "            # Shape [K, 3]\n",
    "            v_center = self.cartersian_velocity_mlp(h_center) * v_center + cartesian_acceleration\n",
    "            x_center = x_center + v_center\n",
    "\n",
    "            ## Update angle velocity\n",
    "            # Shape [K, 3]\n",
    "            angle_velocity_1 = self.angle_velocity_mlp(h_center) * angle_velocity_1 + angle_acceleration_1\n",
    "            angle_velocity_2 = self.angle_velocity_mlp(h_center) * angle_velocity_2 + angle_acceleration_2\n",
    "\n",
    "            ## Update node_pos (position) and velocity\n",
    "            # Shape [K, 3, 3]\n",
    "            rotation_1 = self.rotation_matrix(torch.norm(angle_velocity_1, dim = -1, p = 2), nn.functional.normalize(angle_velocity_1, dim = -1, p = 2))\n",
    "            rotation_2 = self.rotation_matrix(torch.norm(angle_velocity_2, dim = -1, p = 2), nn.functional.normalize(angle_velocity_2, dim = -1, p = 2))\n",
    "            # Shape [K, 3, 3], [K, 3, 1] -> [K, 3, 1] -> [K, 3]\n",
    "            r_1 = torch.bmm(rotation_1, r_1.unsqueeze(-1)).squeeze(-1)\n",
    "            r_2 = torch.bmm(rotation_2, r_2.unsqueeze(-1)).squeeze(-1)\n",
    "            # Shape [K, 3]\n",
    "            x_1, x_2 = x_center + r_1, x_center + r_2\n",
    "            v_1, v_2 = v_center + torch.cross(angle_velocity_1, r_1), v_center + torch.cross(angle_velocity_2, r_2)\n",
    "\n",
    "        node_pos[index_center], node_pos[index_1], node_pos[index_2] = x_center, x_1, x_2\n",
    "        velocity[index_center], velocity[index_1], velocity[index_2] = v_center, v_1, v_2\n",
    "\n",
    "        return node_pos, velocity\n",
    "\n",
    "    def forward(self, node_feat: Tensor, node_pos: Tensor, \n",
    "    velocity: Tensor, edge_index: Tensor, degree: Tensor, object_index, edge_attr = None):\n",
    "        r\"\"\"\n",
    "        Parameters:\n",
    "            node_feat (torch.Tensor):\n",
    "                Node features. Shape [N, in_dim]\n",
    "            node_pos (torch.Tensor):\n",
    "                Node 3D coordinates. Shape [N, 3]\n",
    "            velocity (torch.Tensor):\n",
    "                Velocity vectors. Shape [N, 3]\n",
    "            edge_index (torch.Tensor):\n",
    "                Shape [2, E]\n",
    "            degree (torch.Tensor):\n",
    "                Node degree. Shape [N]\n",
    "            object_index:\n",
    "                Dictionary to store objects (3 types \"isolated\", \"stick\", \"hinge\")\n",
    "            edge_attr (torch.Tensor):\n",
    "                Shape [E, edge_attr_dim]\n",
    "        \"\"\"\n",
    "        num_nodes, num_edges = node_feat.shape[0], edge_index.shape[-1]\n",
    "        # Shape [E], source: j, target: i\n",
    "        source, target = edge_index \n",
    "        # Shape [E, in_dim]\n",
    "        source_feat, target_feat = node_feat[source], node_feat[target]\n",
    "        relative_distance = node_pos[target] - node_pos[source]\n",
    "        # Shape [E]\n",
    "        distance = torch.sum(relative_distance ** 2, dim = -1)\n",
    "        \n",
    "        ## Compute invariant message for edges\n",
    "        # Shape [E, 2 * in_dim + 1]\n",
    "        invariant_edge_message = torch.cat([target_feat, source_feat, distance.unsqueeze(-1)], dim = -1)\n",
    "        if edge_attr is not None:\n",
    "            # Shape [E, in_dim * 2 + 1 + edge_attr_dim]\n",
    "            invariant_edge_message = torch.cat([invariant_edge_message, edge_attr], dim = -1)\n",
    "        # Shape [E, in_dim * 2 + 1 + edge_attr_dim] -> [E, hidden_dim]\n",
    "        invariant_edge_message = self.edge_function(invariant_edge_message)\n",
    "        \n",
    "        ## Compute force\n",
    "        # Shape [E, 3] ([E, 3] * [E, 1]) (invariant_edge_message: Shape [E, hidden_dim] -> coordinate function -> [E, 1])\n",
    "        equivariant_message = relative_distance * self.coordinate_function(invariant_edge_message)\n",
    "        # Aggregate equivariant message \n",
    "        # Shape target [E] -> unsqueeze -> [E, 1] -> broadcast -> [E, 3]\n",
    "        target_index_lifted = torch.broadcast_to(target.unsqueeze(-1), (num_edges, 3))\n",
    "        # Shape [N, 3]\n",
    "        aggregated_equivariant_message = torch.zeros((num_nodes, 3)).scatter_add_(0, target_index_lifted, equivariant_message)\n",
    "        inv_degree = 1 / degree\n",
    "        force = aggregated_equivariant_message * inv_degree.unsqueeze(-1)\n",
    "\n",
    "        ## Update object\n",
    "        # Shape [N, 3]\n",
    "        node_pos, velocity = self.update_object_isolated(node_feat, node_pos, velocity, force, object_index[\"isolated\"])\n",
    "        node_pos, velocity = self.update_object_stick(node_feat, node_pos, velocity, force, object_index[\"stick\"])\n",
    "        node_pos, velocity = self.update_object_hinge(node_feat, node_pos, velocity, force, object_index[\"hinge\"])\n",
    "\n",
    "        ## Update node features\n",
    "        hidden_dim = invariant_edge_message.shape[-1]\n",
    "        # Aggregate invariant edge messages\n",
    "        # Shape target [E] -> unsqueeze -> [E, 1] -> broadcast -> [E, hidden_dim]\n",
    "        target_index_lifted = torch.broadcast_to(target.unsqueeze(-1), (num_edges, hidden_dim))\n",
    "        # Shape [N, hidden_dim]\n",
    "        aggregated_invariant_message = torch.zeros((num_nodes, hidden_dim)).scatter_add_(0, target_index_lifted, invariant_edge_message)\n",
    "        # Shape [N, in_dim + hidden_dim] [N, out_dim]\n",
    "        updated_node_feat = self.node_function(torch.cat([node_feat, aggregated_invariant_message], dim = -1))\n",
    "        \n",
    "        if self.use_residual_connection:\n",
    "            assert updated_node_feat.shape[-1] == node_feat.shape[-1]\n",
    "            node_feat = node_feat + updated_node_feat\n",
    "        else:\n",
    "            node_feat = updated_node_feat\n",
    "\n",
    "        return node_feat, node_pos, velocity"
   ]
  },
  {
   "cell_type": "code",
   "execution_count": 137,
   "metadata": {},
   "outputs": [],
   "source": [
    "node_feat = torch.from_numpy(np.random.rand(6, 10)).to(torch.float32)\n",
    "node_pos = torch.from_numpy(np.random.rand(6, 3)).to(torch.float32)\n",
    "edge_index = np.array([[0, 1], [1, 0],\n",
    "                        [0, 2], [2, 0],\n",
    "                        [0, 3], [3, 0],\n",
    "                        [0, 4], [4, 0],\n",
    "                        [1, 2], [2, 1],\n",
    "                        [1, 4], [4, 1],\n",
    "                        [2, 3], [3, 2],\n",
    "                        [2, 4], [4, 2], \n",
    "                        [3, 4], [4, 3],\n",
    "                        [5, 1], [1, 5]]).T\n",
    "edge_index = torch.from_numpy(edge_index).to(torch.long)"
   ]
  },
  {
   "cell_type": "code",
   "execution_count": 138,
   "metadata": {},
   "outputs": [],
   "source": [
    "g = GMNLayer(10, 10, 10)"
   ]
  },
  {
   "cell_type": "code",
   "execution_count": 139,
   "metadata": {},
   "outputs": [],
   "source": [
    "_, target = edge_index\n",
    "degree = torch.zeros((6,)).scatter_add_(0, target, torch.ones((20,)))"
   ]
  },
  {
   "cell_type": "code",
   "execution_count": 140,
   "metadata": {},
   "outputs": [
    {
     "name": "stdout",
     "output_type": "stream",
     "text": [
      "torch.Size([1, 3])\n"
     ]
    },
    {
     "data": {
      "text/plain": [
       "(tensor([[-0.0901,  0.0509,  1.1608,  1.1542,  1.3515,  0.2357,  0.5621,  0.4460,\n",
       "           0.7634,  1.2102],\n",
       "         [-0.2558,  0.1654,  0.8115,  0.2848,  1.1319,  0.4425,  0.5674, -0.0028,\n",
       "           0.3141,  0.3360],\n",
       "         [-0.1664,  0.5045,  1.0377,  0.4175,  0.3465, -0.0688,  0.4379,  0.4690,\n",
       "           0.7751,  1.2640],\n",
       "         [ 0.3294,  0.3312,  1.3003,  1.1462,  0.9232,  0.0713,  0.2744,  0.8962,\n",
       "           0.1582,  1.0180],\n",
       "         [ 0.3373,  0.1065,  0.9452,  0.5177,  1.1127,  0.3729,  0.6571,  0.4581,\n",
       "           0.6101,  0.9781],\n",
       "         [ 0.5582,  0.4149,  0.4300,  1.1982,  1.1692, -0.1749,  0.8124,  0.5637,\n",
       "           0.2481,  0.3435]], grad_fn=<AddBackward0>),\n",
       " tensor([[ 0.0691,  0.2335,  0.1054],\n",
       "         [-0.0607, -0.0688, -0.1018],\n",
       "         [-0.0595, -0.0724, -0.1046],\n",
       "         [-0.1656,  0.0585, -0.0906],\n",
       "         [-0.1384,  0.0431, -0.1236],\n",
       "         [-0.1685,  0.0054, -0.0687]], grad_fn=<IndexPutBackward0>),\n",
       " tensor([[ 0.0691,  0.2335,  0.1054],\n",
       "         [-0.0607, -0.0688, -0.1018],\n",
       "         [-0.0595, -0.0724, -0.1046],\n",
       "         [-0.1656,  0.0585, -0.0906],\n",
       "         [-0.1384,  0.0431, -0.1236],\n",
       "         [-0.1685,  0.0054, -0.0687]], grad_fn=<IndexPutBackward0>))"
      ]
     },
     "execution_count": 140,
     "metadata": {},
     "output_type": "execute_result"
    }
   ],
   "source": [
    "g.forward(node_feat, node_pos, node_pos, edge_index, degree, \n",
    "        {\"isolated\": torch.Tensor([0]).to(torch.long),\n",
    "        \"stick\": torch.Tensor([1, 2]).to(torch.long).view(2, -1),\n",
    "        \"hinge\": torch.Tensor([3, 4, 5]).to(torch.long).view(3, -1)})"
   ]
  },
  {
   "cell_type": "code",
   "execution_count": 80,
   "metadata": {},
   "outputs": [
    {
     "data": {
      "text/plain": [
       "tensor([0.7389, 0.8982, 0.7209, 0.9272, 0.0331, 0.1127, 0.2813, 0.4452, 0.5682,\n",
       "        0.9312, 0.4755, 0.9519, 0.5177, 0.2725, 0.9384, 0.0670, 0.4531, 0.7180],\n",
       "       dtype=torch.float64)"
      ]
     },
     "execution_count": 80,
     "metadata": {},
     "output_type": "execute_result"
    }
   ],
   "source": [
    "edge_weight = torch.from_numpy(np.random.rand(18,))\n",
    "edge_weight"
   ]
  },
  {
   "cell_type": "code",
   "execution_count": 18,
   "metadata": {},
   "outputs": [],
   "source": [
    "weight_sum = torch.zeros((5,)).to(torch.float64).scatter_add_(0, target, edge_weight)"
   ]
  },
  {
   "cell_type": "code",
   "execution_count": 19,
   "metadata": {},
   "outputs": [],
   "source": [
    "a = torch.Tensor([1, 2, 3])"
   ]
  },
  {
   "cell_type": "code",
   "execution_count": 20,
   "metadata": {},
   "outputs": [
    {
     "data": {
      "text/plain": [
       "tensor([[1., 1.],\n",
       "        [2., 2.],\n",
       "        [3., 3.]])"
      ]
     },
     "execution_count": 20,
     "metadata": {},
     "output_type": "execute_result"
    }
   ],
   "source": [
    "torch.stack([torch.Tensor([1, 2, 3]), torch.Tensor([1, 2, 3])],\n",
    "            dim = -1)"
   ]
  },
  {
   "cell_type": "code",
   "execution_count": 21,
   "metadata": {},
   "outputs": [],
   "source": [
    "a = torch.from_numpy(np.random.rand(3, 1, 4))"
   ]
  },
  {
   "cell_type": "code",
   "execution_count": 22,
   "metadata": {},
   "outputs": [],
   "source": [
    "b = torch.from_numpy(np.random.rand(3, 4, 1))"
   ]
  },
  {
   "cell_type": "code",
   "execution_count": 23,
   "metadata": {},
   "outputs": [],
   "source": [
    "c = torch.bmm(a, b)"
   ]
  },
  {
   "cell_type": "code",
   "execution_count": 24,
   "metadata": {},
   "outputs": [
    {
     "data": {
      "text/plain": [
       "tensor([[[1.]],\n",
       "\n",
       "        [[1.]],\n",
       "\n",
       "        [[1.]]], dtype=torch.float64)"
      ]
     },
     "execution_count": 24,
     "metadata": {},
     "output_type": "execute_result"
    }
   ],
   "source": [
    "nn.functional.normalize(c, dim = -1, p = 2)"
   ]
  },
  {
   "cell_type": "code",
   "execution_count": 25,
   "metadata": {},
   "outputs": [
    {
     "data": {
      "text/plain": [
       "tensor([[[0.7168]],\n",
       "\n",
       "        [[0.6956]],\n",
       "\n",
       "        [[0.0484]]], dtype=torch.float64)"
      ]
     },
     "execution_count": 25,
     "metadata": {},
     "output_type": "execute_result"
    }
   ],
   "source": [
    "c / (torch.sum(c ** 2) ** 0.5) "
   ]
  },
  {
   "cell_type": "code",
   "execution_count": 26,
   "metadata": {},
   "outputs": [
    {
     "data": {
      "text/plain": [
       "tensor([[1.],\n",
       "        [1.],\n",
       "        [1.]], dtype=torch.float64)"
      ]
     },
     "execution_count": 26,
     "metadata": {},
     "output_type": "execute_result"
    }
   ],
   "source": [
    "nn.functional.normalize(c.reshape(-1, 1), dim = -1, p = 2)"
   ]
  },
  {
   "cell_type": "code",
   "execution_count": 27,
   "metadata": {},
   "outputs": [
    {
     "data": {
      "text/plain": [
       "torch.Size([3, 1])"
      ]
     },
     "execution_count": 27,
     "metadata": {},
     "output_type": "execute_result"
    }
   ],
   "source": [
    "torch.sum(torch.from_numpy(np.random.rand(3, 4)), dim = -1, keepdim = True).shape"
   ]
  },
  {
   "cell_type": "code",
   "execution_count": 28,
   "metadata": {},
   "outputs": [],
   "source": [
    "a = torch.randn(5, 3)\n",
    "b = torch.randn(5, 3)"
   ]
  },
  {
   "cell_type": "code",
   "execution_count": 40,
   "metadata": {},
   "outputs": [
    {
     "data": {
      "text/plain": [
       "tensor([[True, True, True],\n",
       "        [True, True, True],\n",
       "        [True, True, True],\n",
       "        [True, True, True],\n",
       "        [True, True, True]])"
      ]
     },
     "execution_count": 40,
     "metadata": {},
     "output_type": "execute_result"
    }
   ],
   "source": [
    "a / 1. == a"
   ]
  },
  {
   "cell_type": "code",
   "execution_count": 43,
   "metadata": {},
   "outputs": [
    {
     "data": {
      "text/plain": [
       "torch.Size([5, 3, 2])"
      ]
     },
     "execution_count": 43,
     "metadata": {},
     "output_type": "execute_result"
    }
   ],
   "source": [
    "(torch.stack([a, b], dim = -1)).shape"
   ]
  },
  {
   "cell_type": "code",
   "execution_count": null,
   "metadata": {},
   "outputs": [],
   "source": []
  }
 ],
 "metadata": {
  "kernelspec": {
   "display_name": "Python 3",
   "language": "python",
   "name": "python3"
  },
  "language_info": {
   "codemirror_mode": {
    "name": "ipython",
    "version": 3
   },
   "file_extension": ".py",
   "mimetype": "text/x-python",
   "name": "python",
   "nbconvert_exporter": "python",
   "pygments_lexer": "ipython3",
   "version": "3.8.10 (v3.8.10:3d8993a744, May  3 2021, 09:09:08) \n[Clang 12.0.5 (clang-1205.0.22.9)]"
  },
  "orig_nbformat": 4,
  "vscode": {
   "interpreter": {
    "hash": "aee8b7b246df8f9039afb4144a1f6fd8d2ca17a180786b69acc140d282b71a49"
   }
  }
 },
 "nbformat": 4,
 "nbformat_minor": 2
}
